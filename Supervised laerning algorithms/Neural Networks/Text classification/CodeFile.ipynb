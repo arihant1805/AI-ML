{
 "cells": [
  {
   "cell_type": "markdown",
   "metadata": {},
   "source": [
    "## __Neural networks with imdb data set__"
   ]
  },
  {
   "cell_type": "code",
   "execution_count": 28,
   "metadata": {},
   "outputs": [],
   "source": [
    "import tensorflow as tf\n",
    "from tensorflow import keras\n",
    "import numpy as np"
   ]
  },
  {
   "cell_type": "markdown",
   "metadata": {},
   "source": [
    "_Loading the data_"
   ]
  },
  {
   "cell_type": "code",
   "execution_count": 29,
   "metadata": {},
   "outputs": [],
   "source": [
    "data = keras.datasets.imdb"
   ]
  },
  {
   "cell_type": "markdown",
   "metadata": {},
   "source": [
    "_As our data is large we will remove the reviews which have count less than 10000, and divide the data for training and testing_"
   ]
  },
  {
   "cell_type": "code",
   "execution_count": 30,
   "metadata": {},
   "outputs": [],
   "source": [
    "(train_data,train_labels),(test_data,test_labels)=data.load_data(num_words=10000)"
   ]
  },
  {
   "cell_type": "code",
   "execution_count": 31,
   "metadata": {},
   "outputs": [
    {
     "data": {
      "text/plain": [
       "[1, 14, 22, 16, 43, 530, 973, 1622, 1385, 65, 458, 4468, 66, 3941, 4]"
      ]
     },
     "execution_count": 31,
     "metadata": {},
     "output_type": "execute_result"
    }
   ],
   "source": [
    "train_data[0][:15]"
   ]
  },
  {
   "cell_type": "markdown",
   "metadata": {},
   "source": [
    "_As seen above the data does not look like the words movie review but here each int is refering to a unique word_"
   ]
  },
  {
   "cell_type": "markdown",
   "metadata": {},
   "source": [
    "__So, How would we understand the out put?__"
   ]
  },
  {
   "cell_type": "code",
   "execution_count": 32,
   "metadata": {},
   "outputs": [],
   "source": [
    "word_index=data.get_word_index()# This is a dictionaray so we will take the words out\n",
    "word_index={k:(v+3) for k,v in word_index.items()} \n",
    "word_index[\"<PAD>\"]=0\n",
    "word_index[\"<START>\"]=1\n",
    "word_index[\"<UNK>\"]=2\n",
    "word_index[\"<UNUSED>\"]=3"
   ]
  },
  {
   "cell_type": "markdown",
   "metadata": {},
   "source": [
    "_Now we can access the no by the word but, we want to access words by no. so we will inter change the key to value and value to key_"
   ]
  },
  {
   "cell_type": "code",
   "execution_count": 33,
   "metadata": {},
   "outputs": [],
   "source": [
    "reverse_word_index=dict([value,key] for (key,value) in word_index.items())"
   ]
  },
  {
   "cell_type": "markdown",
   "metadata": {},
   "source": [
    "_we also need to decode a single review in one go and join the words to make it meaning full, there fore the following function will do this for us_"
   ]
  },
  {
   "cell_type": "code",
   "execution_count": 34,
   "metadata": {},
   "outputs": [],
   "source": [
    "def decode_review(text):\n",
    "    return \" \".join([reverse_word_index.get(i,\"?\") for i in text])"
   ]
  },
  {
   "cell_type": "markdown",
   "metadata": {},
   "source": [
    "_So this is the first review_"
   ]
  },
  {
   "cell_type": "code",
   "execution_count": 35,
   "metadata": {},
   "outputs": [
    {
     "data": {
      "text/plain": [
       "\"<START> please give this one a miss br br <UNK> <UNK> and the rest of the cast rendered terrible performances the show is flat flat flat br br i don't know how michael madison could have allowed this one on his plate he almost seemed to know this wasn't going to work out and his performance was quite <UNK> so all you madison fans give this a miss\""
      ]
     },
     "execution_count": 35,
     "metadata": {},
     "output_type": "execute_result"
    }
   ],
   "source": [
    "decode_review(test_data[0])"
   ]
  },
  {
   "cell_type": "markdown",
   "metadata": {},
   "source": [
    "_If we think in practical way so our data is not gping to be of the same length for each review but, our model does not support input of this type_"
   ]
  },
  {
   "cell_type": "markdown",
   "metadata": {},
   "source": [
    "__So we will make all the data of same length by remove the extra words and adding the <PAD  untill it become of the same length__ so we will choose any arbitary value let's say 250"
   ]
  },
  {
   "cell_type": "code",
   "execution_count": 36,
   "metadata": {},
   "outputs": [],
   "source": [
    "train_data=keras.preprocessing.sequence.pad_sequences(train_data,value=word_index[\"<PAD>\"],padding=\"post\",maxlen=250)\n",
    "test_data=keras.preprocessing.sequence.pad_sequences(test_data,value=word_index[\"<PAD>\"],padding=\"post\",maxlen=250)"
   ]
  },
  {
   "cell_type": "markdown",
   "metadata": {},
   "source": [
    "### __Defining the model__"
   ]
  },
  {
   "cell_type": "code",
   "execution_count": 37,
   "metadata": {},
   "outputs": [],
   "source": [
    "model=keras.Sequential()\n",
    "model.add(keras.layers.Embedding(100000,16))\n",
    "model.add(keras.layers.GlobalAveragePooling1D())\n",
    "model.add(keras.layers.Dense(16,activation=\"relu\"))\n",
    "model.add(keras.layers.Dense(1,activation=\"sigmoid\"))"
   ]
  },
  {
   "cell_type": "markdown",
   "metadata": {},
   "source": [
    "+ Here the embedding layer will make the vector(in 16 dem space) of all(10000) words closer to simpler one and further from different one\n",
    "+ GlobalAveragePooling1D change the 16D data in 1D"
   ]
  },
  {
   "cell_type": "code",
   "execution_count": 38,
   "metadata": {},
   "outputs": [
    {
     "name": "stdout",
     "output_type": "stream",
     "text": [
      "Model: \"sequential_1\"\n",
      "_________________________________________________________________\n",
      " Layer (type)                Output Shape              Param #   \n",
      "=================================================================\n",
      " embedding_1 (Embedding)     (None, None, 16)          1600000   \n",
      "                                                                 \n",
      " global_average_pooling1d_1  (None, 16)                0         \n",
      "  (GlobalAveragePooling1D)                                       \n",
      "                                                                 \n",
      " dense_2 (Dense)             (None, 16)                272       \n",
      "                                                                 \n",
      " dense_3 (Dense)             (None, 1)                 17        \n",
      "                                                                 \n",
      "=================================================================\n",
      "Total params: 1600289 (6.10 MB)\n",
      "Trainable params: 1600289 (6.10 MB)\n",
      "Non-trainable params: 0 (0.00 Byte)\n",
      "_________________________________________________________________\n"
     ]
    }
   ],
   "source": [
    "model.summary()\n",
    "model.compile(optimizer=\"adam\",loss=\"binary_crossentropy\",metrics=[\"accuracy\"])"
   ]
  },
  {
   "cell_type": "markdown",
   "metadata": {},
   "source": [
    "_Again we spilt the data :10000 and 10000:  so that our model get train by rectification in testing the training data_"
   ]
  },
  {
   "cell_type": "code",
   "execution_count": 39,
   "metadata": {},
   "outputs": [],
   "source": [
    "x_val=train_data[:10000]\n",
    "x_train=train_data[10000:]\n",
    "\n",
    "y_val=test_labels[:10000]\n",
    "y_train=train_labels[10000:]"
   ]
  },
  {
   "cell_type": "markdown",
   "metadata": {},
   "source": [
    "_Let's train our data_"
   ]
  },
  {
   "cell_type": "code",
   "execution_count": 40,
   "metadata": {},
   "outputs": [
    {
     "name": "stdout",
     "output_type": "stream",
     "text": [
      "Epoch 1/40\n"
     ]
    },
    {
     "name": "stdout",
     "output_type": "stream",
     "text": [
      "30/30 [==============================] - 3s 54ms/step - loss: 0.6921 - accuracy: 0.5522 - val_loss: 0.6932 - val_accuracy: 0.4930\n",
      "Epoch 2/40\n",
      "30/30 [==============================] - 1s 42ms/step - loss: 0.6876 - accuracy: 0.7172 - val_loss: 0.6936 - val_accuracy: 0.4964\n",
      "Epoch 3/40\n",
      "30/30 [==============================] - 1s 45ms/step - loss: 0.6770 - accuracy: 0.7348 - val_loss: 0.6953 - val_accuracy: 0.4931\n",
      "Epoch 4/40\n",
      "30/30 [==============================] - 1s 38ms/step - loss: 0.6562 - accuracy: 0.7528 - val_loss: 0.6990 - val_accuracy: 0.4939\n",
      "Epoch 5/40\n",
      "30/30 [==============================] - 1s 37ms/step - loss: 0.6237 - accuracy: 0.7852 - val_loss: 0.7070 - val_accuracy: 0.4966\n",
      "Epoch 6/40\n",
      "30/30 [==============================] - 1s 36ms/step - loss: 0.5819 - accuracy: 0.8107 - val_loss: 0.7242 - val_accuracy: 0.4976\n",
      "Epoch 7/40\n",
      "30/30 [==============================] - 1s 36ms/step - loss: 0.5344 - accuracy: 0.8309 - val_loss: 0.7510 - val_accuracy: 0.4970\n",
      "Epoch 8/40\n",
      "30/30 [==============================] - 1s 36ms/step - loss: 0.4864 - accuracy: 0.8477 - val_loss: 0.7864 - val_accuracy: 0.4959\n",
      "Epoch 9/40\n",
      "30/30 [==============================] - 1s 37ms/step - loss: 0.4414 - accuracy: 0.8593 - val_loss: 0.8331 - val_accuracy: 0.4974\n",
      "Epoch 10/40\n",
      "30/30 [==============================] - 1s 41ms/step - loss: 0.4021 - accuracy: 0.8736 - val_loss: 0.8811 - val_accuracy: 0.4946\n",
      "Epoch 11/40\n",
      "30/30 [==============================] - 1s 42ms/step - loss: 0.3698 - accuracy: 0.8778 - val_loss: 0.9354 - val_accuracy: 0.4957\n",
      "Epoch 12/40\n",
      "30/30 [==============================] - 1s 39ms/step - loss: 0.3408 - accuracy: 0.8876 - val_loss: 0.9973 - val_accuracy: 0.4942\n",
      "Epoch 13/40\n",
      "30/30 [==============================] - 1s 43ms/step - loss: 0.3170 - accuracy: 0.8952 - val_loss: 1.0520 - val_accuracy: 0.4919\n",
      "Epoch 14/40\n",
      "30/30 [==============================] - 1s 44ms/step - loss: 0.2968 - accuracy: 0.8995 - val_loss: 1.1078 - val_accuracy: 0.4917\n",
      "Epoch 15/40\n",
      "30/30 [==============================] - 1s 38ms/step - loss: 0.2791 - accuracy: 0.9046 - val_loss: 1.1586 - val_accuracy: 0.4918\n",
      "Epoch 16/40\n",
      "30/30 [==============================] - 1s 39ms/step - loss: 0.2637 - accuracy: 0.9096 - val_loss: 1.2185 - val_accuracy: 0.4930\n",
      "Epoch 17/40\n",
      "30/30 [==============================] - 1s 39ms/step - loss: 0.2498 - accuracy: 0.9136 - val_loss: 1.2665 - val_accuracy: 0.4917\n",
      "Epoch 18/40\n",
      "30/30 [==============================] - 1s 42ms/step - loss: 0.2370 - accuracy: 0.9183 - val_loss: 1.3169 - val_accuracy: 0.4926\n",
      "Epoch 19/40\n",
      "30/30 [==============================] - 1s 37ms/step - loss: 0.2255 - accuracy: 0.9214 - val_loss: 1.3577 - val_accuracy: 0.4906\n",
      "Epoch 20/40\n",
      "30/30 [==============================] - 1s 37ms/step - loss: 0.2146 - accuracy: 0.9261 - val_loss: 1.3996 - val_accuracy: 0.4903\n",
      "Epoch 21/40\n",
      "30/30 [==============================] - 1s 37ms/step - loss: 0.2049 - accuracy: 0.9296 - val_loss: 1.4483 - val_accuracy: 0.4908\n",
      "Epoch 22/40\n",
      "30/30 [==============================] - 1s 37ms/step - loss: 0.1960 - accuracy: 0.9328 - val_loss: 1.4855 - val_accuracy: 0.4910\n",
      "Epoch 23/40\n",
      "30/30 [==============================] - 1s 38ms/step - loss: 0.1875 - accuracy: 0.9385 - val_loss: 1.5306 - val_accuracy: 0.4920\n",
      "Epoch 24/40\n",
      "30/30 [==============================] - 1s 37ms/step - loss: 0.1795 - accuracy: 0.9406 - val_loss: 1.5675 - val_accuracy: 0.4919\n",
      "Epoch 25/40\n",
      "30/30 [==============================] - 1s 37ms/step - loss: 0.1721 - accuracy: 0.9450 - val_loss: 1.6022 - val_accuracy: 0.4914\n",
      "Epoch 26/40\n",
      "30/30 [==============================] - 1s 38ms/step - loss: 0.1649 - accuracy: 0.9471 - val_loss: 1.6507 - val_accuracy: 0.4917\n",
      "Epoch 27/40\n",
      "30/30 [==============================] - 1s 38ms/step - loss: 0.1584 - accuracy: 0.9504 - val_loss: 1.6901 - val_accuracy: 0.4904\n",
      "Epoch 28/40\n",
      "30/30 [==============================] - 1s 37ms/step - loss: 0.1522 - accuracy: 0.9513 - val_loss: 1.7196 - val_accuracy: 0.4937\n",
      "Epoch 29/40\n",
      "30/30 [==============================] - 1s 38ms/step - loss: 0.1470 - accuracy: 0.9540 - val_loss: 1.7792 - val_accuracy: 0.4912\n",
      "Epoch 30/40\n",
      "30/30 [==============================] - 1s 38ms/step - loss: 0.1408 - accuracy: 0.9566 - val_loss: 1.7940 - val_accuracy: 0.4920\n",
      "Epoch 31/40\n",
      "30/30 [==============================] - 1s 37ms/step - loss: 0.1350 - accuracy: 0.9594 - val_loss: 1.8299 - val_accuracy: 0.4918\n",
      "Epoch 32/40\n",
      "30/30 [==============================] - 1s 39ms/step - loss: 0.1307 - accuracy: 0.9613 - val_loss: 1.8743 - val_accuracy: 0.4907\n",
      "Epoch 33/40\n",
      "30/30 [==============================] - 1s 39ms/step - loss: 0.1250 - accuracy: 0.9635 - val_loss: 1.9139 - val_accuracy: 0.4914\n",
      "Epoch 34/40\n",
      "30/30 [==============================] - 1s 38ms/step - loss: 0.1208 - accuracy: 0.9641 - val_loss: 1.9480 - val_accuracy: 0.4911\n",
      "Epoch 35/40\n",
      "30/30 [==============================] - 1s 39ms/step - loss: 0.1158 - accuracy: 0.9678 - val_loss: 1.9870 - val_accuracy: 0.4913\n",
      "Epoch 36/40\n",
      "30/30 [==============================] - 1s 38ms/step - loss: 0.1116 - accuracy: 0.9690 - val_loss: 2.0254 - val_accuracy: 0.4911\n",
      "Epoch 37/40\n",
      "30/30 [==============================] - 1s 37ms/step - loss: 0.1075 - accuracy: 0.9707 - val_loss: 2.0592 - val_accuracy: 0.4914\n",
      "Epoch 38/40\n",
      "30/30 [==============================] - 1s 37ms/step - loss: 0.1039 - accuracy: 0.9723 - val_loss: 2.0846 - val_accuracy: 0.4915\n",
      "Epoch 39/40\n",
      "30/30 [==============================] - 1s 37ms/step - loss: 0.0999 - accuracy: 0.9730 - val_loss: 2.1198 - val_accuracy: 0.4915\n",
      "Epoch 40/40\n",
      "30/30 [==============================] - 1s 37ms/step - loss: 0.0960 - accuracy: 0.9755 - val_loss: 2.1581 - val_accuracy: 0.4912\n"
     ]
    }
   ],
   "source": [
    "fitModel = model.fit(x_train,y_train,epochs=40,batch_size=512,validation_data=(x_val,y_val),verbose=1)"
   ]
  },
  {
   "cell_type": "code",
   "execution_count": 41,
   "metadata": {},
   "outputs": [
    {
     "name": "stdout",
     "output_type": "stream",
     "text": [
      "  1/782 [..............................] - ETA: 22s - loss: 0.2891 - accuracy: 0.8750"
     ]
    },
    {
     "name": "stdout",
     "output_type": "stream",
     "text": [
      "782/782 [==============================] - 2s 2ms/step - loss: 0.3286 - accuracy: 0.8717\n"
     ]
    },
    {
     "data": {
      "text/plain": [
       "[0.3285709619522095, 0.871720016002655]"
      ]
     },
     "execution_count": 41,
     "metadata": {},
     "output_type": "execute_result"
    }
   ],
   "source": [
    "results=model.evaluate(test_data,test_labels)\n",
    "results"
   ]
  },
  {
   "cell_type": "markdown",
   "metadata": {},
   "source": [
    "_Let's check the orignal review the updated one and the predicted one_"
   ]
  },
  {
   "cell_type": "code",
   "execution_count": 45,
   "metadata": {},
   "outputs": [
    {
     "name": "stdout",
     "output_type": "stream",
     "text": [
      "1/1 [==============================] - 0s 27ms/step\n",
      "Review :\n",
      "<START> please give this one a miss br br <UNK> <UNK> and the rest of the cast rendered terrible performances the show is flat flat flat br br i don't know how michael madison could have allowed this one on his plate he almost seemed to know this wasn't going to work out and his performance was quite <UNK> so all you madison fans give this a miss <PAD> <PAD> <PAD> <PAD> <PAD> <PAD> <PAD> <PAD> <PAD> <PAD> <PAD> <PAD> <PAD> <PAD> <PAD> <PAD> <PAD> <PAD> <PAD> <PAD> <PAD> <PAD> <PAD> <PAD> <PAD> <PAD> <PAD> <PAD> <PAD> <PAD> <PAD> <PAD> <PAD> <PAD> <PAD> <PAD> <PAD> <PAD> <PAD> <PAD> <PAD> <PAD> <PAD> <PAD> <PAD> <PAD> <PAD> <PAD> <PAD> <PAD> <PAD> <PAD> <PAD> <PAD> <PAD> <PAD> <PAD> <PAD> <PAD> <PAD> <PAD> <PAD> <PAD> <PAD> <PAD> <PAD> <PAD> <PAD> <PAD> <PAD> <PAD> <PAD> <PAD> <PAD> <PAD> <PAD> <PAD> <PAD> <PAD> <PAD> <PAD> <PAD> <PAD> <PAD> <PAD> <PAD> <PAD> <PAD> <PAD> <PAD> <PAD> <PAD> <PAD> <PAD> <PAD> <PAD> <PAD> <PAD> <PAD> <PAD> <PAD> <PAD> <PAD> <PAD> <PAD> <PAD> <PAD> <PAD> <PAD> <PAD> <PAD> <PAD> <PAD> <PAD> <PAD> <PAD> <PAD> <PAD> <PAD> <PAD> <PAD> <PAD> <PAD> <PAD> <PAD> <PAD> <PAD> <PAD> <PAD> <PAD> <PAD> <PAD> <PAD> <PAD> <PAD> <PAD> <PAD> <PAD> <PAD> <PAD> <PAD> <PAD> <PAD> <PAD> <PAD> <PAD> <PAD> <PAD> <PAD> <PAD> <PAD> <PAD> <PAD> <PAD> <PAD> <PAD> <PAD> <PAD> <PAD> <PAD> <PAD> <PAD> <PAD> <PAD> <PAD> <PAD> <PAD> <PAD> <PAD> <PAD> <PAD> <PAD> <PAD> <PAD> <PAD> <PAD> <PAD> <PAD> <PAD> <PAD> <PAD> <PAD>\n",
      "Prediction : [0.08003436]\n",
      "Actual : 0\n",
      "Loss: 0.3285709619522095 accuracy: 0.871720016002655\n"
     ]
    }
   ],
   "source": [
    "test_review = test_data[0:5]\n",
    "predicted=model.predict([test_review])\n",
    "print(\"Review :\")\n",
    "print(decode_review(test_review[0]))\n",
    "print(\"Prediction : \"+str(predicted[0]))\n",
    "print(\"Actual : \"+str(test_labels[0]))\n",
    "print(\"Loss:\",results[0],\"accuracy:\",results[1])"
   ]
  },
  {
   "cell_type": "markdown",
   "metadata": {},
   "source": [
    "#### __Let's save our model__"
   ]
  },
  {
   "cell_type": "code",
   "execution_count": 47,
   "metadata": {},
   "outputs": [],
   "source": [
    "model.save(\"model.h5\")"
   ]
  },
  {
   "cell_type": "markdown",
   "metadata": {},
   "source": [
    "_Let's chcek our model for any other review which we will give in_"
   ]
  },
  {
   "cell_type": "markdown",
   "metadata": {},
   "source": [
    "__reloading the model__"
   ]
  },
  {
   "cell_type": "code",
   "execution_count": 49,
   "metadata": {},
   "outputs": [],
   "source": [
    "model=keras.models.load_model(\"model.h5\")"
   ]
  },
  {
   "cell_type": "markdown",
   "metadata": {},
   "source": [
    "_Let's load our review_"
   ]
  },
  {
   "cell_type": "code",
   "execution_count": 57,
   "metadata": {},
   "outputs": [],
   "source": [
    "def review_encode(s):\n",
    "    encoded = [1]\n",
    "    for word in s:\n",
    "        if word.lower() in word_index:\n",
    "            encoded.append(word_index[word.lower()])\n",
    "        else:\n",
    "            encoded.append(2)\n",
    "    return encoded"
   ]
  },
  {
   "cell_type": "code",
   "execution_count": 58,
   "metadata": {},
   "outputs": [
    {
     "name": "stdout",
     "output_type": "stream",
     "text": [
      "1/1 [==============================] - 0s 198ms/step\n",
      "Of all the animation classics from the Walt Disney Company, there is perhaps none that is more celebrated than \"The Lion King.\" Its acclaim is understandable: this is quite simply a glorious work of art.\"The Lion King\" gets off to a fantastic start. The film's opening number, \"The Circle of Life,\" is outstanding. The song lasts for about four minutes, but from the first sound, the audience is floored. Not even National Geographic can capture something this beautiful and dramatic. Not only is this easily the greatest moment in film animation, this is one of the greatest sequences in film history. The story that follows is not as majestic, but the film has to tell a story. Actually, the rest of the film holds up quite well. The story takes place in Africa, where the lions rule. Their king, Mufasa (James Earl Jones) has just been blessed with a son, Simba (Jonathan Taylor Thomas), who goes in front of his uncle Scar (Jeremy Irons) as next in line for the throne. Scar is furious, and sets in motion plans to usurp the throne for himself. After a tragedy occurs and Mufasa is killed, Scar persuades Simba to flee, leaving himself as king. Simba grows up in exile, but he learns that while he can run away from his past, he can never escape it. When viewing the film, it is obvious that \"The Lion King\" is quite different from its predecessors (and successors). This is an epic story that contains more dramatic power than all the other Disney films combined. While there are definitely some light-hearted moments, there is no denying the dark drama that takes up the bulk of the story. While it could be argued that Disney is the champion of family entertainment, this film is not for the very young. Some of the sequences are very dark and violent, many bordering on frightening, even for the older crowd.The voice actors are terrific. Jonathan Taylor Thomas brings a large dose of innocence to Young Simba. He's mischievous, but also terribly naive. His older counterpart, voiced by Matthew Broderick, equals him. He's older, but no less mature. The voices are so similar that it's almost impossible not to believe that they are the same character at different ages. Perhaps no one could have been better suited for the role of Mufasa than James Earl Jones. His baritone voice gives the Mufasa a quality of great power and wisdom; there is no question that his role is king. As Scar, Jeremy Irons is pitch-perfect. The drawing of the character is villainous, but Irons' vocal work complements the animation to create one of the most memorable, and vicious, villains in Disney history. He's unquestionably evil, but he's also clever, which makes him all the more dangerous. Manipulation, not violence is his greatest weapon. Providing some much needed comic relief are Nathan Lane and Ernie Sabella as Timon and Pumbaa, two other outcasts (a meerkat and a warthog), and Rowan Atkinson as Zazu. While there is definite fun from these characters, neither the actors nor the filmmakers allow them to go over-the-top and destroy the mood of the film.Disney's animated features are known for their gorgeous artwork. Nowhere is this more apparent than in \"The Lion King.\" Every single frame is jaw-dropping. The colors are rich, and the drawings are sharp and beautiful. One of the pitfalls of animation (both computer and hand-drawn) is that there is sometimes a visible distance between the subject and the background, making it seem as if the figure animation was cut and pasted on the background (this is obviously what happens, but it is up to the artists to make sure that it isn't noticeable). There is none of that here.Throughout the Golden Age of Disney animation, the films have been musicals. \"The Lion King\" is no different, and the songs are brilliant. All of the numbers are standouts (\"Can You Feel the Love Tonight\" won the Oscar, but in my opinion, \"The Circle of Life\" was better). In the cases of Simba and Nala (Simba's girlfriend), both young and old, there is a noticeable difference between the speaking and singing parts (everyone else does their own singing and speaking), but never mind. It still works, and that's what's important.\"The Lion King\" is not flawless, but on first viewing, they aren't noticeable, and it is likely that the young won't ever notice them. \"Beauty and the Beast\" was the first animated film to get an Oscar nomination for Best Picture (it lost to \"The Silence of the Lambs\"), and is thus far the only animated film to receive such an honor. That being the case, it's hard to understand why \"The Lion King\" was not given the same distinction. The two films are more or less equal in quality, and the nominees for the honor that year were not strong. If you haven't already, see \"The Lion King.\" You won't be disappointed.\n",
      "[[    6  4687  3744   200     4   875     5     4   978   231    12   306\n",
      "     17    48     4   822   748    16   605     5 12625    23     4   978\n",
      "     14     9   540    51   571    21    12     9    56     8     4  2719\n",
      "      8    97   252    15    12   218  6456    50     9   600     7    15\n",
      "      2     4  2050   559     7   910   748     4   108    28    77  2769\n",
      "      4  3082   711     9    57   275     5     4   690    26   530    32\n",
      "      7     4  1396    26 16015    70    25   235     4   119  4487  1199\n",
      "      4   735    21    11    61   652     4  4246     7   113    16   128\n",
      "     11     4  2936     7 10539     5 35738 20403   980   199   185     5\n",
      "    154    50     9     6  6456  1474   200     4  1386     5  1118   531\n",
      "    316   334   127    68   205  1118     5  1386    21   115   330    12\n",
      "    131   495     5   198   803     2  3082   711     9    24  3562    21\n",
      "     23    86   829    36   713  6456     5    12     9  1329    15     4\n",
      "    185   528   126  1495    98   936     5     4  2773    16     4    86\n",
      "   1125    22     8    79    35   735  4372    18   118   431    12   416\n",
      "      8     4  3542     7     4 10721     5     9  1346   230     4    64\n",
      "   1125    22     8  3911   141    35  2898    15   112     4   420    45\n",
      "    254     8   391   138     4  3082   711    16    24   348     4   172\n",
      "   8076     4   107   108    26    53    42   329  3215    11   489     5\n",
      "      4 13341    18     4  2898    15   291    71    24   565    48    25\n",
      "    774   460    67     4  3082   711    25   528    30   685]]\n",
      "[0.9441337]\n"
     ]
    }
   ],
   "source": [
    "with open(\"Volunter review.txt\",encoding=\"utf-8\") as f:\n",
    "    for line in f.readlines():\n",
    "        nline =line.replace(\",\",\"\").replace(\"(\",\"\").replace(\".\",\"\").replace(\"\\\"\",\"\").replace(\":\",\"\").replace(\")\",\"\").strip().split()\n",
    "        encode = review_encode(nline)\n",
    "        encode=keras.preprocessing.sequence.pad_sequences([encode],value=word_index[\"<PAD>\"],padding=\"post\",maxlen=250)\n",
    "        predict=model.predict(encode)\n",
    "        print(line)\n",
    "        print(encode)\n",
    "        print(predict[0])\n",
    "        "
   ]
  }
 ],
 "metadata": {
  "kernelspec": {
   "display_name": "Python 3",
   "language": "python",
   "name": "python3"
  },
  "language_info": {
   "codemirror_mode": {
    "name": "ipython",
    "version": 3
   },
   "file_extension": ".py",
   "mimetype": "text/x-python",
   "name": "python",
   "nbconvert_exporter": "python",
   "pygments_lexer": "ipython3",
   "version": "3.11.4"
  }
 },
 "nbformat": 4,
 "nbformat_minor": 2
}
